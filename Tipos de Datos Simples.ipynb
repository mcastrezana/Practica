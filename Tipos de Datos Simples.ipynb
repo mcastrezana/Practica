{
 "cells": [
  {
   "cell_type": "markdown",
   "metadata": {},
   "source": [
    "Ejercicio 1\n",
    "Escribir un programa que muestre por pantalla la cadena ¡Hola Mundo!."
   ]
  },
  {
   "cell_type": "code",
   "execution_count": 3,
   "metadata": {},
   "outputs": [
    {
     "name": "stdout",
     "output_type": "stream",
     "text": [
      "¡Hola Mundo!\n"
     ]
    }
   ],
   "source": [
    "print('¡Hola Mundo!')"
   ]
  },
  {
   "cell_type": "markdown",
   "metadata": {},
   "source": [
    "Ejercicio 2\n",
    "Escribir un programa que almacene la cadena ¡Hola Mundo! en una variable y luego muestre por pantalla el contenido de la variable."
   ]
  },
  {
   "cell_type": "code",
   "execution_count": 4,
   "metadata": {},
   "outputs": [
    {
     "name": "stdout",
     "output_type": "stream",
     "text": [
      "¡Hola Mundo!\n"
     ]
    }
   ],
   "source": [
    "var1= '¡Hola Mundo!'\n",
    "print(var1)"
   ]
  },
  {
   "cell_type": "markdown",
   "metadata": {},
   "source": [
    "Ejercicio 3\n",
    "Escribir un programa que pregunte el nombre del usuario en la consola y después de que el usuario lo introduzca muestre por pantalla la cadena ¡Hola <nombre>!, donde <nombre> es el nombre que el usuario haya introducido."
   ]
  },
  {
   "cell_type": "code",
   "execution_count": 7,
   "metadata": {},
   "outputs": [
    {
     "name": "stdout",
     "output_type": "stream",
     "text": [
      "¡Hola Majo!\n"
     ]
    }
   ],
   "source": [
    "nombre = input('Ingresa tu nombre:')\n",
    "print('¡Hola ' + nombre + '!')"
   ]
  },
  {
   "cell_type": "markdown",
   "metadata": {},
   "source": [
    "Ejercicio 4\n",
    "Escribir un programa que muestre por pantalla el resultado de la siguiente operación aritmética \n",
    " ((3+2)/(2*5)^2)\n",
    " para realizar una operacion a una potencia se utiliza dos veces el simbolo de multiplicacion **"
   ]
  },
  {
   "cell_type": "code",
   "execution_count": 11,
   "metadata": {},
   "outputs": [
    {
     "name": "stdout",
     "output_type": "stream",
     "text": [
      "0.25\n"
     ]
    }
   ],
   "source": [
    "print(( ( 3 + 2 ) / ( 2 * 5 ) ) ** 2)"
   ]
  },
  {
   "cell_type": "markdown",
   "metadata": {},
   "source": [
    "Ejercicio 5\n",
    "Escribir un programa que pregunte al usuario por el número de horas trabajadas y el coste por hora. Después debe mostrar por pantalla la paga que le corresponde."
   ]
  },
  {
   "cell_type": "code",
   "execution_count": 16,
   "metadata": {},
   "outputs": [
    {
     "name": "stdout",
     "output_type": "stream",
     "text": [
      "El pago que te corresponde es de:  2000.0\n"
     ]
    }
   ],
   "source": [
    "horas = float(input('Cuantas horas trabajaste? '))\n",
    "costo = float(input('Cuanto es el costo por hora trabajada? '))\n",
    "paga = horas * costo\n",
    "print( 'El pago que te corresponde es de: ' , paga)"
   ]
  },
  {
   "cell_type": "markdown",
   "metadata": {},
   "source": [
    "Ejercicio 6\n",
    "Escribir un programa que lea un entero positivo, n, introducido por el usuario y después muestre en pantalla la suma de todos los enteros desde 1 hasta n. La suma de los primeros enteros positivos puede ser calculada de la siguiente forma: \n",
    "     suma = (n(n+1))/2"
   ]
  },
  {
   "cell_type": "code",
   "execution_count": 18,
   "metadata": {},
   "outputs": [
    {
     "name": "stdout",
     "output_type": "stream",
     "text": [
      "La suma de los primeros numeros enteros desde 1 hasta 8 es 36.0\n"
     ]
    }
   ],
   "source": [
    "n = int(input('Introduce un numero entero:'))\n",
    "suma = n * (n+1) / 2\n",
    "print( 'La suma de los primeros numeros enteros desde 1 hasta ' + str(n) + ' es ' + str(suma)) "
   ]
  },
  {
   "cell_type": "markdown",
   "metadata": {},
   "source": [
    "Ejercicio 7\n",
    "Escribir un programa que pida al usuario su peso (en kg) y estatura (en metros), calcule el índice de masa corporal y lo almacene en una variable, y muestre por pantalla la frase Tu índice de masa corporal es <imc> donde <imc> es el índice de masa corporal calculado redondeado con dos decimales."
   ]
  },
  {
   "cell_type": "code",
   "execution_count": 21,
   "metadata": {},
   "outputs": [
    {
     "name": "stdout",
     "output_type": "stream",
     "text": [
      "Tu indice de masa corporal es: 23.01\n"
     ]
    }
   ],
   "source": [
    "peso = input( 'Ingres tu peso en kg: ')\n",
    "estatura = input( 'Ingresa tu estatura en metros: ')\n",
    "imc =  round(float(peso) / float(estatura)**2,2)\n",
    "print( 'Tu indice de masa corporal es: ' + str(imc) )"
   ]
  },
  {
   "cell_type": "markdown",
   "metadata": {},
   "source": [
    "Ejercicio 8\n",
    "Escribir un programa que pida al usuario dos números enteros y muestre por pantalla la <n> entre <m> da un cociente <c> y un resto <r> donde <n> y <m> son los números introducidos por el usuario, y <c> y <r> son el cociente y el resto de la división entera respectivamente."
   ]
  },
  {
   "cell_type": "code",
   "execution_count": 25,
   "metadata": {},
   "outputs": [
    {
     "name": "stdout",
     "output_type": "stream",
     "text": [
      "27 entre 4 da un cociente 6 y un resto 3\n"
     ]
    }
   ],
   "source": [
    "n = input( 'Introduce el dividendo (entero): ')\n",
    "m = input( 'Introduce el divisor (entero): ')\n",
    "print ( n + ' entre ' + m + ' da un cociente ' + str( int(n) // int(m) ) + ' y un resto ' + str( int(n) % int(m) ) )"
   ]
  },
  {
   "cell_type": "markdown",
   "metadata": {},
   "source": [
    "Ejercicio 9\n",
    "Escribir un programa que pregunte al usuario una cantidad a invertir, el interés anual y el número de años, y muestre por pantalla el capital obtenido en la inversión"
   ]
  },
  {
   "cell_type": "code",
   "execution_count": 26,
   "metadata": {},
   "outputs": [
    {
     "name": "stdout",
     "output_type": "stream",
     "text": [
      "El Capital final es: 6083.26\n"
     ]
    }
   ],
   "source": [
    "cant = float( input( 'Cantidad que deseas invertir: ' ) )\n",
    "interes = float( input( 'Ingresa el interes anual: ' ) )\n",
    "años = int( input( 'Ingreso los años de la inversion: ' ) )\n",
    "print( 'El Capital final es: ' + str( round( cant * ( interes / 100 + 1 ) ** años , 2 )))"
   ]
  }
 ],
 "metadata": {
  "kernelspec": {
   "display_name": "Python 3",
   "language": "python",
   "name": "python3"
  },
  "language_info": {
   "codemirror_mode": {
    "name": "ipython",
    "version": 3
   },
   "file_extension": ".py",
   "mimetype": "text/x-python",
   "name": "python",
   "nbconvert_exporter": "python",
   "pygments_lexer": "ipython3",
   "version": "3.11.6"
  }
 },
 "nbformat": 4,
 "nbformat_minor": 2
}
